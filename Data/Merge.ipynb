{
 "cells": [
  {
   "cell_type": "code",
   "execution_count": 266,
   "metadata": {},
   "outputs": [],
   "source": [
    "import pandas as pd\n",
    "HW=pd.read_excel(r'MDA.xlsx')\n",
    "GDP=pd.read_excel(r'GDP.xlsx')\n",
    "HE=pd.read_excel(r'health expenditure.xls')\n",
    "FAO=pd.read_csv(r'FAOSTAT.csv')\n",
    "Popu=pd.read_csv(r'population.csv')"
   ]
  },
  {
   "cell_type": "code",
   "execution_count": 267,
   "metadata": {},
   "outputs": [],
   "source": [
    "GDP=GDP[['Country', 'Scale','1990','1991', '1992', '1993', '1994', '1995', '1996', '1997', \n",
    "        '1998', '1999','2000', '2001', '2002', '2003', '2004', '2005', '2006', '2007', '2008','2009', \n",
    "        '2010', '2011', '2012', '2013', '2014', '2015', '2016', '2017','2018', '2019', '2020', '2021']]\n",
    "GDP=GDP.rename(columns={'Scale':'GDP_Scale'})\n",
    "GDP=pd.melt(GDP, id_vars=['Country', 'GDP_Scale'], value_vars=['1990','1991', '1992', '1993', '1994', '1995', '1996', '1997', \n",
    "        '1998', '1999','2000', '2001', '2002', '2003', '2004', '2005', '2006', '2007', '2008','2009', \n",
    "        '2010', '2011', '2012', '2013', '2014', '2015', '2016', '2017','2018', '2019', '2020', '2021'], var_name='Year',value_name='GDP_value', col_level=None)\n"
   ]
  },
  {
   "cell_type": "code",
   "execution_count": 268,
   "metadata": {},
   "outputs": [],
   "source": [
    "GDP['Year']=GDP['Year'].astype(int)\n",
    "merge1 = pd.merge(HW, GDP, on=['Year', 'Country'])"
   ]
  },
  {
   "cell_type": "code",
   "execution_count": 269,
   "metadata": {},
   "outputs": [],
   "source": [
    "HE=HE[['Country Name','1990','1991', '1992', '1993', '1994', '1995', '1996', '1997', \n",
    "        '1998', '1999','2000', '2001', '2002', '2003', '2004', '2005', '2006', '2007', '2008','2009', \n",
    "        '2010', '2011', '2012', '2013', '2014', '2015', '2016', '2017','2018', '2019']]\n",
    "HE=HE.rename(columns={'Country Name':'Country'})\n",
    "HE=pd.melt(HE, id_vars=['Country'], value_vars=['1990','1991', '1992', '1993', '1994', '1995', '1996', '1997', '1998', \n",
    "                                                 '1999','2000', '2001', '2002', '2003', '2004', '2005', '2006', '2007', \n",
    "                                                 '2008','2009', '2010', '2011', '2012', '2013', '2014', '2015', '2016', \n",
    "                                                 '2017','2018', '2019'], \n",
    "           var_name='Year', value_name='HE_value', col_level=None)\n"
   ]
  },
  {
   "cell_type": "code",
   "execution_count": 270,
   "metadata": {},
   "outputs": [],
   "source": [
    "HE['Year']=HE['Year'].astype(int)\n",
    "merge2 = pd.merge(merge1, HE, on=['Year', 'Country'])"
   ]
  },
  {
   "cell_type": "code",
   "execution_count": 271,
   "metadata": {},
   "outputs": [],
   "source": [
    "FAO=FAO.rename(columns={'Area':'Country','Value':'FAO_Value'})\n",
    "FAO=FAO.set_index([\"Country\", \"Year\",\"Item\"])[\"FAO_Value\"].unstack().rename_axis(columns=None).reset_index()\n",
    "FAO=FAO.rename(columns={'Cereals, Total':'Cereals','Fruit Primary':'Fruit','Milk, Total':'Milk','Vegetables Primary':'Vegetables'})\n",
    "merge3 = pd.merge(merge2, FAO, on=['Year', 'Country'])"
   ]
  },
  {
   "cell_type": "code",
   "execution_count": 272,
   "metadata": {},
   "outputs": [],
   "source": [
    "Popu=pd.melt(Popu, id_vars=['Country'], value_vars=['1990 ', '1991 ', '1992 ', '1993 ', '1994 ', '1995 ','1996 ', '1997 ', '1998 ', '1999 ', '2000 ', '2001 ', '2002 ', '2003 ',\n",
    "       '2004 ', '2005 ', '2006 ', '2007 ', '2008 ', '2009 ', '2010 ', '2011 ','2012 ', '2013 ', '2014 ', '2015 ', '2016 ', '2017 ', '2018 ', '2019 ','2020 '], var_name='Year', value_name='Population_value', col_level=None)"
   ]
  },
  {
   "cell_type": "code",
   "execution_count": 273,
   "metadata": {},
   "outputs": [],
   "source": [
    "Popu['Year']=Popu['Year'].astype(int)\n",
    "Merge = pd.merge(merge3, Popu, on=['Year', 'Country'])"
   ]
  },
  {
   "cell_type": "code",
   "execution_count": 274,
   "metadata": {},
   "outputs": [],
   "source": [
    "Merge=Merge.drop(['Unnamed: 0'], axis=1)"
   ]
  },
  {
   "cell_type": "code",
   "execution_count": 265,
   "metadata": {},
   "outputs": [],
   "source": [
    "import csv \n",
    "import pandas as pd \n",
    "Merge.to_csv('Merge.csv') "
   ]
  },
  {
   "cell_type": "code",
   "execution_count": null,
   "metadata": {},
   "outputs": [],
   "source": []
  }
 ],
 "metadata": {
  "kernelspec": {
   "display_name": "Python 3",
   "language": "python",
   "name": "python3"
  },
  "language_info": {
   "codemirror_mode": {
    "name": "ipython",
    "version": 3
   },
   "file_extension": ".py",
   "mimetype": "text/x-python",
   "name": "python",
   "nbconvert_exporter": "python",
   "pygments_lexer": "ipython3",
   "version": "3.8.5"
  }
 },
 "nbformat": 4,
 "nbformat_minor": 4
}
